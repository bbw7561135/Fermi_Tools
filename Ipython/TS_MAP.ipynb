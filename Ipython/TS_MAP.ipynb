{
 "cells": [
  {
   "cell_type": "code",
   "execution_count": 1,
   "metadata": {},
   "outputs": [
    {
     "name": "stderr",
     "output_type": "stream",
     "text": [
      "/usr/local/lib/python2.7/site-packages/matplotlib/__init__.py:1405: UserWarning: \n",
      "This call to matplotlib.use() has no effect because the backend has already\n",
      "been chosen; matplotlib.use() must be called *before* pylab, matplotlib.pyplot,\n",
      "or matplotlib.backends is imported for the first time.\n",
      "\n",
      "  warnings.warn(_use_error_msg)\n",
      "/usr/local/lib/python2.7/site-packages/matplotlib/__init__.py:913: UserWarning: text.fontsize is deprecated and replaced with font.size; please use the latter.\n",
      "  warnings.warn(self.msg_depr % (key, alt_key))\n",
      "/usr/local/lib/python2.7/site-packages/matplotlib/__init__.py:913: UserWarning: axes.color_cycle is deprecated and replaced with axes.prop_cycle; please use the latter.\n",
      "  warnings.warn(self.msg_depr % (key, alt_key))\n"
     ]
    },
    {
     "name": "stdout",
     "output_type": "stream",
     "text": [
      "51910.0007429\n"
     ]
    }
   ],
   "source": [
    "%matplotlib inline\n",
    "import numpy as np\n",
    "from paper_plot import *\n",
    "from myfunctions import MJD_to_MET, MET_to_MJD\n",
    "import pyfits as fits\n",
    "from xml.etree import ElementTree as ET\n",
    "import os\n",
    "MeV_to_erg = 1.60218e-6\n",
    "from matplotlib.colors import LinearSegmentedColormap\n",
    "cmap = LinearSegmentedColormap.from_list('mycmap', ['white', 'red', '#800000'])"
   ]
  },
  {
   "cell_type": "code",
   "execution_count": 2,
   "metadata": {},
   "outputs": [
    {
     "data": {
      "text/plain": [
       "array(57059.976139655075)"
      ]
     },
     "execution_count": 2,
     "metadata": {},
     "output_type": "execute_result"
    }
   ],
   "source": [
    "MJD_to_MET(56961)\n",
    "MET_to_MJD(444957874.28219837)"
   ]
  },
  {
   "cell_type": "code",
   "execution_count": 3,
   "metadata": {
    "collapsed": true
   },
   "outputs": [],
   "source": [
    "@np.vectorize\n",
    "def powerlaw(E, prefactor, index, E0):\n",
    "    return prefactor*(E/E0)**index\n",
    "\n",
    "@np.vectorize\n",
    "def log_parabola(E, norm, alpha, beta, Eb):\n",
    "    return norm*(E/Eb)**(-alpha+beta*np.log(E/Eb))"
   ]
  },
  {
   "cell_type": "code",
   "execution_count": 4,
   "metadata": {
    "collapsed": true
   },
   "outputs": [],
   "source": [
    "def make_edges(data_f):\n",
    "    header = data_f[0].header\n",
    "    xmin = header['CRVAL1']-header['CRPIX1']*abs(header['CDELT1'])\n",
    "    xmax = header['CRVAL1']+header['CRPIX1']*abs(header['CDELT1'])\n",
    "    ymin = header['CRVAL2']-header['CRPIX2']*abs(header['CDELT2'])\n",
    "    ymax = header['CRVAL2']+header['CRPIX2']*abs(header['CDELT2']) \n",
    "    xbins = header['NAXIS1']\n",
    "    ybins = header['NAXIS2']\n",
    "    return xmin, xmax, ymin, ymax, xbins, ybins\n",
    "\n",
    "def in_window(xmin,xmax,ymin,ymax, ra ,dec):\n",
    "    if (ra>xmin) and (ra<xmax) and (dec>ymin) and (dec<ymax):\n",
    "        return True\n",
    "    else:\n",
    "        return False\n",
    "    \n",
    "\n",
    "def most_significant_src(res_file, xml_file, window): \n",
    "    valid_position = lambda ra, dec : in_window(window[0], window[1],\n",
    "                                                window[2], window[3], ra, dec)\n",
    "    \n",
    "    tree = ET.parse(xml_file)\n",
    "    root = tree.getroot()\n",
    "    pos_dict = dict()\n",
    "    for child in root.getchildren():\n",
    "        this_src = child.attrib['name']\n",
    "        spat = child.find('spatialModel')\n",
    "        coords = np.zeros(2)\n",
    "        for key in spat:\n",
    "            if key.attrib['name'] == 'RA':\n",
    "                coords[0] = float(key.attrib['scale'])*float(key.attrib['value'])\n",
    "            if key.attrib['name'] == 'DEC':\n",
    "                coords[1] = float(key.attrib['scale'])*float(key.attrib['value'])\n",
    "        pos_dict[this_src]=coords\n",
    "        \n",
    "    with open(res_file) as results:\n",
    "        res_dict = eval(results.read())\n",
    "    TS_vals = []\n",
    "    src_name = []\n",
    "    for src in res_dict:\n",
    "        #print '{} {}, {}'.format(src, pos_dict[src][0], pos_dict[src][1])\n",
    "        if (src=='iso_P8R2_SOURCE_V6_v06') or (src=='gll_iem_v06'):\n",
    "            print 'ok'\n",
    "            continue\n",
    "        if valid_position(pos_dict[src][0], pos_dict[src][1]):\n",
    "            if 'TS value' in res_dict[src].keys():\n",
    "                TS_vals.append(float(res_dict[src]['TS value']))\n",
    "            else:\n",
    "                TS_vals.append(0)\n",
    "            src_name.append(src)\n",
    "    \n",
    "    inds = np.argsort(TS_vals)[::-1]\n",
    "    n = 5\n",
    "    sig_TS = np.array(TS_vals)[inds[:n]]\n",
    "    sig_src = np.array(src_name)[inds[:n]]\n",
    "    \n",
    "    sig_src_dict = dict()\n",
    "    for i, src in enumerate(sig_src):\n",
    "        sig_src_dict[src]={'pos' : pos_dict[src],\n",
    "                           'TS' : sig_TS[i]}\n",
    "        \n",
    "    return sig_src_dict"
   ]
  },
  {
   "cell_type": "code",
   "execution_count": 6,
   "metadata": {},
   "outputs": [],
   "source": [
    "time = '56949_57059' #'56949_57059' #57908_58018\n",
    "emin = '2GeV'\n",
    "mfile = 'model.fits' #'diffuse.fits'\n",
    "folder = '{}/{}'.format(time, emin)\n",
    "TS_data = fits.open('./TXS/{}/{}'.format(folder, mfile))"
   ]
  },
  {
   "cell_type": "code",
   "execution_count": 11,
   "metadata": {},
   "outputs": [
    {
     "name": "stderr",
     "output_type": "stream",
     "text": [
      "/usr/local/lib/python2.7/site-packages/ipykernel_launcher.py:25: DeprecationWarning: This method will be removed in future versions.  Use 'list(elem)' or iteration over elem instead.\n"
     ]
    },
    {
     "name": "stdout",
     "output_type": "stream",
     "text": [
      "ok\n",
      "ok\n",
      "{'2WHSP': {'pos': array([ 77.139125,   5.519194]), 'TS': -7.2831999999999997e-05}, '3FGL J0505.3+0459': {'pos': array([ 76.3432,   4.9979]), 'TS': 248.30000000000001}, '3FGL J0509.4+0541': {'pos': array([ 77.3639,   5.699 ]), 'TS': 93.319699999999997}}\n"
     ]
    },
    {
     "data": {
      "image/png": "[encoded data removed]",
      "text/plain": [
       "<matplotlib.figure.Figure at 0x112342450>"
      ]
     },
     "metadata": {},
     "output_type": "display_data"
    }
   ],
   "source": [
    "plt_lim = [75.8, 79, 4.5, 7.]\n",
    "fig = plt.figure(figsize=figsize(0.4, 1.))\n",
    "plt.clf()\n",
    "ax=fig.add_axes((.0, .0,1.,.93))\n",
    "xmin, xmax, ymin, ymax, xbins, ybins = make_edges(TS_data)\n",
    "X=np.linspace(xmin, xmax, xbins)[::-1]\n",
    "Y=np.linspace(ymin, ymax, ybins)\n",
    "Z=TS_data[0].data\n",
    "Z[np.where(Z<0)]=0.001\n",
    "plt_src = most_significant_src('./TXS/{}/results.dat'.format(folder),\n",
    "                               './TXS/{}/model.xml'.format(folder), \n",
    "                               plt_lim)\n",
    "print plt_src\n",
    "alias= {'3FGL J0505.3+0459': ['PKS 0502+049','d',8], \n",
    "        '3FGL J0509.4+0541': ['TXS 0506+056', 'd',8],\n",
    "        '2WHSP': ['2WHSPJ050833.3+05310', '*',11],\n",
    "       }\n",
    "plt_src['2WHSP'] = {'pos':[77.139125, 5.519194]}\n",
    "for i, src in enumerate(plt_src):\n",
    "    ax.plot(plt_src[src]['pos'][0], plt_src[src]['pos'][1], marker=alias[src][1], ms=alias[src][2],\n",
    "             color= color[i], label=alias[src][0], lw=0, zorder=1)\n",
    "# cmap = plt.cm.Reds\n",
    "# cmap.set_under('white')\n",
    "cbar = ax.contourf(X,Y,Z, levels=np.linspace(np.min(Z), np.max(Z), 500),\n",
    "                    cmap=cmap, vmin=0) \n",
    "levels=np.linspace(np.min(Z), np.max(Z), 30)[2::5]\n",
    "CS = ax.contour(X,Y,Z, levels=levels,\n",
    "                colors='black', linewidths=(0.4,))\n",
    "plt.clabel(CS, levels[::2], fontsize=11, fmt='%1.0f', inline =1,\n",
    "           inline_spacing =1, colors='black', zorder=5)\n",
    "contour_path = './contour_90.npy'\n",
    "if os.path.exists(contour_path):\n",
    "    contour = np.load(contour_path)\n",
    "    ax.plot(np.concatenate(contour[:,0:1]),\n",
    "            np.concatenate(contour[:,1:2]),\n",
    "            zorder=2, color='k',\n",
    "            linestyle='--', label='IceCube-170922A', lw=1.)\n",
    "    ax.plot(77.43, 5.72, label='Best-Fit Location', linestyle='',\n",
    "            marker='s', color='k', zorder=2, ms=4)\n",
    "ax.set_xlabel(r'R.A. (degrees)')\n",
    "ax.set_ylabel(r'Dec. (degrees)')\n",
    "ax.set_xlim(75.6, 78.6)\n",
    "ax.set_ylim(4.0, 7.0)\n",
    "plt.gca().invert_xaxis()\n",
    "plt.legend(loc='best', ncol=2, columnspacing=1., fontsize=6.5)\n",
    "# colorbar\n",
    "ax2=fig.add_axes((.0, .95,1.,.05))\n",
    "plt_cbar = fig.colorbar(cbar, orientation=\"horizontal\", cax=ax2, ticks=np.arange(0, np.max(Z), 4) )\n",
    "plt_cbar.set_label('TS Value', labelpad=8)\n",
    "plt_cbar.ax.xaxis.set_ticks_position('top')\n",
    "plt_cbar.ax.xaxis.set_label_position('top')\n",
    "plt.text(0.02, 0.02, 'E$\\geq${}'.format(emin), horizontalalignment='left', verticalalignment='bottom',\n",
    "         transform=ax.transAxes, fontsize=10)\n",
    "ax2.tick_params(axis='x', which='major', pad=3)\n",
    "\n",
    "\n",
    "plt.savefig('TS_{}_{}_{}.png'.format(mfile[:-5],time, emin), dpi=400, bbox_inches='tight')\n",
    "plt.show()"
   ]
  },
  {
   "cell_type": "markdown",
   "metadata": {
    "collapsed": true
   },
   "source": [
    "# ROI"
   ]
  },
  {
   "cell_type": "code",
   "execution_count": 46,
   "metadata": {},
   "outputs": [
    {
     "name": "stderr",
     "output_type": "stream",
     "text": [
      "/usr/local/lib/python2.7/site-packages/ipykernel_launcher.py:7: DeprecationWarning: This method will be removed in future versions.  Use 'list(elem)' or iteration over elem instead.\n",
      "  import sys\n"
     ]
    },
    {
     "data": {
      "image/png": "[encoded data removed]",
      "text/plain": [
       "<matplotlib.figure.Figure at 0x10a3b24d0>"
      ]
     },
     "metadata": {},
     "output_type": "display_data"
    }
   ],
   "source": [
    "tree = ET.parse('./TXS/56949_57059/100MeV/model.xml')\n",
    "res_file = './TXS/56949_57059/100MeV/results.dat'\n",
    "with open(res_file) as results:\n",
    "    res_dict = eval(results.read())\n",
    "root = tree.getroot()\n",
    "pos_dict = dict()\n",
    "for child in root.getchildren():\n",
    "    this_src = child.attrib['name']\n",
    "    spat = child.find('spatialModel')\n",
    "    coords = np.zeros(3)\n",
    "    for key in spat:\n",
    "        if key.attrib['name'] == 'RA':\n",
    "            coords[0] = float(key.attrib['scale'])*float(key.attrib['value'])\n",
    "        if key.attrib['name'] == 'DEC':\n",
    "            coords[1] = float(key.attrib['scale'])*float(key.attrib['value'])\n",
    "        if 'TS value' in res_dict[this_src].keys():\n",
    "            coords[2] = float(res_dict[this_src]['TS value'])\n",
    "    pos_dict[this_src]=coords\n",
    "    \n",
    "fig = plt.figure(figsize=figsize(0.4, 1.))\n",
    "plt.clf()\n",
    "ax=fig.add_axes((.0, .0,1.,.93))\n",
    "for src in pos_dict:\n",
    "    plt.scatter(pos_dict[src][0], pos_dict[src][1], s = 0.5*pos_dict[src][2])\n",
    "ax.set_xlim(70, 85)\n",
    "ax.set_ylim(-1, 14.)\n",
    "plt.gca().invert_xaxis()\n",
    "ax.set_xlabel(r'R.A. (degrees)')\n",
    "ax.set_ylabel(r'Dec. (degrees)')\n",
    "plt.savefig('gamma_ROI.pdf', bbox_inches='tight')"
   ]
  },
  {
   "cell_type": "code",
   "execution_count": null,
   "metadata": {
    "collapsed": true
   },
   "outputs": [],
   "source": []
  }
 ],
 "metadata": {
  "kernelspec": {
   "display_name": "Python 2",
   "language": "python",
   "name": "python2"
  },
  "language_info": {
   "codemirror_mode": {
    "name": "ipython",
    "version": 2
   },
   "file_extension": ".py",
   "mimetype": "text/x-python",
   "name": "python",
   "nbconvert_exporter": "python",
   "pygments_lexer": "ipython2",
   "version": "2.7.13"
  }
 },
 "nbformat": 4,
 "nbformat_minor": 2
}
