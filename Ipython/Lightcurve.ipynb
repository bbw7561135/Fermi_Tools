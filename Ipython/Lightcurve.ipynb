{
 "cells": [
  {
   "cell_type": "code",
   "execution_count": 33,
   "metadata": {},
   "outputs": [],
   "source": [
    "%matplotlib inline\n",
    "import numpy as np\n",
    "import os\n",
    "from paper_plot import *\n",
    "from matplotlib.ticker import FormatStrFormatter\n",
    "from scipy.integrate import quad\n",
    "from xml.etree import ElementTree as ET\n",
    "from astropy.time import Time\n",
    "from myfunctions import MET_to_MJD\n",
    "import matplotlib.patches as mpatches\n",
    "import matplotlib.lines as mlines\n",
    "import math\n",
    "from scipy.stats import norm\n",
    "from sklearn.neighbors import KernelDensity\n",
    "from scipy.interpolate import UnivariateSpline\n",
    "from matplotlib.transforms import Affine2D\n",
    "import mpl_toolkits.axisartist.floating_axes as floating_axes\n",
    "MeV_to_erg = 1.60218e-6"
   ]
  },
  {
   "cell_type": "code",
   "execution_count": 34,
   "metadata": {
    "scrolled": true
   },
   "outputs": [
    {
     "data": {
      "text/plain": [
       "array(58225.14196972222)"
      ]
     },
     "execution_count": 34,
     "metadata": {},
     "output_type": "execute_result"
    }
   ],
   "source": [
    "MET_to_MJD(545628202)"
   ]
  },
  {
   "cell_type": "code",
   "execution_count": 35,
   "metadata": {
    "collapsed": true
   },
   "outputs": [],
   "source": [
    "def create_index_pdf(x, g, dg):\n",
    "    probs = [norm.pdf(x, g[i], dg[i]) for i in range(len(g))]\n",
    "    return np.sum(probs)\n",
    "\n",
    "def weighted_avg_and_std(values, weights):\n",
    "    \"\"\"\n",
    "    Return the weighted average and standard deviation.\n",
    "\n",
    "    values, weights -- Numpy ndarrays with the same shape.\n",
    "    \"\"\"\n",
    "    average = np.average(values, weights=weights)\n",
    "    # Fast and numerically precise:\n",
    "    variance = np.average((values-average)**2, weights=weights)\n",
    "    return (average, math.sqrt(variance))\n",
    "\n",
    "def weighted_median(values, weights):\n",
    "    sinds = np.argsort(values)\n",
    "    csum = np.cumsum(weights[sinds])\n",
    "    median_ind = int(np.where(csum>np.max(csum)/2)[0][0]) \n",
    "    return (values[sinds])[median_ind]"
   ]
  },
  {
   "cell_type": "code",
   "execution_count": 36,
   "metadata": {
    "collapsed": true
   },
   "outputs": [],
   "source": [
    "def get_flux(this_dict):\n",
    "    if this_dict['type'] == 'PowerLaw':\n",
    "        return lambda E: powerlaw(E, this_dict['Prefactor'][0],\n",
    "                                 this_dict['Index'][0], this_dict['Scale'][0])\n",
    "    if this_dict['type'] == 'LogParabola':\n",
    "        return lambda E: log_parabola(E, this_dict['norm'][0],\n",
    "                                 this_dict['alpha'][0], this_dict['beta'][0], this_dict['Eb'])\n",
    "    \n",
    "def get_rel_error(this_dict):\n",
    "    if (this_dict['type'] == 'PowerLaw'): \n",
    "        return lambda E: powerlaw_err(E, this_dict['Prefactor'][0], this_dict['Prefactor'][1],\n",
    "                                 this_dict['Index'][1], this_dict['Scale'][0], this_dict['cov'] )\n",
    "    if (this_dict['type'] == 'LogParabola'): ##could be wrong, just for testing\n",
    "        return lambda E: powerlaw_err(E, this_dict['norm'][0], this_dict['norm'][1],\n",
    "                                 this_dict['alpha'][1], this_dict['Eb'][0] )\n",
    "        \n",
    "@np.vectorize\n",
    "def powerlaw(E, prefactor, index, E0):\n",
    "    return prefactor*(E/E0)**(-index)\n",
    "\n",
    "@np.vectorize\n",
    "def log_parabola(E, norm, alpha, beta, Eb):\n",
    "    return norm*(E/Eb)**(-alpha-beta*np.log(E/Eb))\n",
    "\n",
    "@np.vectorize\n",
    "def powerlaw_err(E, norm, dnorm, dindex, E0, cov):\n",
    "    return np.sqrt((dnorm/norm)**2 + ((np.log(E/E0))**2)*dindex**2+2*cov*np.log(E/E0)/norm)\n",
    "\n",
    "def ana_ph_flux(this_dict, emin, emax):\n",
    "    phi0 = this_dict['Prefactor'][0]\n",
    "    gamma = np.abs(this_dict['Index'][0])\n",
    "    E0 = this_dict['Scale'][0]\n",
    "    return phi0/(1-gamma)*((emax/E0)**(-gamma)*emax-(emin/E0)**(-gamma)*emin)\n",
    "    \n",
    "def ana_ph_flux_err(this_dict,emin, emax):\n",
    "    phi0 = this_dict['Prefactor'][0]\n",
    "    gamma = this_dict['Index'][0]\n",
    "    E0 = this_dict['Scale'][0]\n",
    "    dgamma = this_dict['Index'][1]\n",
    "    dphi0 = this_dict['Prefactor'][1]\n",
    "    flux = ana_ph_flux(this_dict, emin, emax)\n",
    "    diff_emax = powerlaw(emax,phi0,gamma,E0)\n",
    "    diff_emin = powerlaw(emin,phi0,gamma,E0)\n",
    "    cov = this_dict['cov']\n",
    "    dPhi_dgamma =flux/(1-gamma)+1/(1-gamma)*(diff_emin*emin*np.log(emin/E0)-diff_emax*emax*np.log(emax/E0))\n",
    "    dPhi_dPhi0 = flux/phi0\n",
    "    return np.sqrt((dPhi_dPhi0*dphi0)**2+(dPhi_dgamma*dgamma)**2+2*cov*dPhi_dPhi0*dPhi_dgamma)\n",
    "    \n",
    "    \n",
    "    "
   ]
  },
  {
   "cell_type": "code",
   "execution_count": 77,
   "metadata": {
    "collapsed": true
   },
   "outputs": [],
   "source": [
    "source = '3FGL J0509.4+0541' # TXS\n",
    "path_to_fit_res = './Lightcurve/TXS_78days'\n",
    "filen = '../Narek/TXS_results_F6.txt' # Adaptive Binning\n",
    "project ='2000'\n",
    "llim = 2e3\n",
    "ulim = 3e5\n",
    "\n",
    "# source = '3FGL J0509.4+0541' # TXS\n",
    "# path_to_fit_res = './Lightcurve/TXS_LC'\n",
    "# filen = '../Narek/TXS_results_F6.txt' # Adaptive Binning\n",
    "# project ='2000'\n",
    "# llim = 2e3\n",
    "# ulim = 3e5\n",
    "\n",
    "# source = '3FGL J0509.4+0541' # TXS\n",
    "# path_to_fit_res = './Lightcurve/TXS_110days/'\n",
    "# filen = '../Narek/TXS_results_F6.txt' # Adaptive Binning\n",
    "# project ='2000'\n",
    "# llim = 2e3\n",
    "# ulim = 3e5\n",
    "\n",
    "# source = '3FGL J0509.4+0541' # TXS\n",
    "# path_to_fit_res = './Lightcurve/TXS_LC_5GeV/'\n",
    "# filen = '../Narek/TXS_results_F6.txt' # Adaptive Binning\n",
    "# project ='5000'\n",
    "# llim = 5e3\n",
    "# ulim = 3e5\n",
    "\n",
    "# source = '3FGL J0509.4+0541' # TXS\n",
    "# path_to_fit_res = './Lightcurve/TXS_LC_10GeV/'\n",
    "# filen = '../Narek/TXS_results_F6.txt' # Adaptive Binning\n",
    "# project ='10000'þfe\n",
    "# llim = 10e3\n",
    "# ulim = 3e5\n",
    "\n",
    "# source = '3FGL J0505.3+0459' #PKS\n",
    "# path_to_fit_res = './Lightcurve/PKS_LC_old/'\n",
    "# filen = '../Narek/pks0502_results.txt' # Adaptive Binning\n",
    "# project ='100'\n",
    "# llim = 1e2\n",
    "# ulim = 3e5\n",
    "\n",
    "\n",
    "spec_index='Index'\n",
    "ms = 1.0\n",
    "lw = 0.7"
   ]
  },
  {
   "cell_type": "markdown",
   "metadata": {},
   "source": [
    "# New"
   ]
  },
  {
   "cell_type": "code",
   "execution_count": 78,
   "metadata": {
    "collapsed": true
   },
   "outputs": [],
   "source": [
    "LC_dict = dict()\n",
    "bin_length =[]\n",
    "for time_dir in [dir for dir in os.listdir(path_to_fit_res) if dir[0] == '5']:\n",
    "    path = '{}/{}/{}/output.npy'.format(path_to_fit_res, time_dir, project)\n",
    "    if os.path.exists(path):\n",
    "        odict = np.load(path)[()]\n",
    "    else:\n",
    "        continue\n",
    "    tmid = (float(time_dir.split('_')[1])+float(time_dir.split('_')[0]))/2\n",
    "    bin_length.append(float(time_dir.split('_')[1])-float(time_dir.split('_')[0]))\n",
    "    flux_params = dict()\n",
    "    if 'beta' in odict[source].keys():\n",
    "        flux_params['type'] = 'LogParabola'\n",
    "        pref = 'norm'\n",
    "        sind = 'alpha'\n",
    "        E0 = 'Eb'\n",
    "    else:\n",
    "        flux_params['type'] = 'Powerlaw'  \n",
    "        pref = 'Prefactor'\n",
    "        sind = 'Index'\n",
    "        E0 = 'Scale'\n",
    "    \n",
    "    prefactor = odict[source][pref]\n",
    "    flux_params['Prefactor'] = [prefactor['value']*prefactor['scale'], prefactor['error']*prefactor['scale'] ]\n",
    "    index = odict[source][sind]\n",
    "    flux_params['Index'] = [index['value'], index['error'] ]\n",
    "    flux_params['ts'] = odict[source]['TS']\n",
    "    flux_params['Scale'] = [odict[source][E0]['value']]\n",
    "    flux_params['ul'] = odict[source]['UL']['value']\n",
    "    flux_params['flux'] = odict[source]['flux']\n",
    "    flux_params['flux_err'] = odict[source]['flux_err']\n",
    "    flux_params['eflux'] = odict[source]['eflux']\n",
    "    flux_params['eflux_err'] = odict[source]['eflux_err']\n",
    "    LC_dict[tmid] = flux_params\n",
    "times = np.array(sorted(LC_dict.keys()))\n",
    "#print LC_dict"
   ]
  },
  {
   "cell_type": "code",
   "execution_count": 79,
   "metadata": {},
   "outputs": [
    {
     "name": "stdout",
     "output_type": "stream",
     "text": [
      "{54913.5: {'Index': [2.1526717181929484, 0.33856900284519537], 'Scale': [20000.0], 'flux': 1.4039923080655364e-09, 'eflux': 1.1367006486490655e-05, 'ts': 55.63004099307727, 'flux_err': 4.2014842630700509e-10, 'ul': 1.8334748464716857e-09, 'type': 'Powerlaw', 'eflux_err': 5.7972907742410793e-06, 'Prefactor': [5.709458194582576e-15, 3.0931104279789413e-15]}, 58231.5: {'Index': [3.007241114181224, 0.9015994093076731], 'Scale': [20000.0], 'flux': 1.5177607940659995e-08, 'eflux': 6.006723459803867e-05, 'ts': 38.915022462836305, 'flux_err': 7.0025448044601252e-09, 'ul': 2.0751784180861694e-08, 'type': 'Powerlaw', 'eflux_err': 3.6777780619656471e-05, 'Prefactor': [1.496845860607303e-14, 2.51080198547017e-14]}, 56809.5: {'Index': [2.095537952596707, 0.32210176234136484], 'Scale': [20000.0], 'flux': 1.9849984557382454e-09, 'eflux': 1.7385485249201027e-05, 'ts': 62.47133128587666, 'flux_err': 5.8625322901603271e-10, 'ul': 2.609716172031274e-09, 'type': 'Powerlaw', 'eflux_err': 8.9276497988708213e-06, 'Prefactor': [8.760038203209051e-15, 4.490043606130242e-15]}, 56967.5: {'Index': [1.8661296342083271, 0.288118479782949], 'Scale': [20000.0], 'flux': 1.8451506976034634e-09, 'eflux': 2.3117350801364444e-05, 'ts': 64.75371308917966, 'flux_err': 5.5802227083309142e-10, 'ul': 2.5711162345921722e-09, 'type': 'Powerlaw', 'eflux_err': 1.2452580991295733e-05, 'Prefactor': [1.1017556724402855e-14, 4.743432185526491e-15]}, 55308.5: {'Index': [2.3367691255572263, 0.26725215382293094], 'Scale': [20000.0], 'flux': 3.4948406251616142e-09, 'eflux': 2.2631987656839513e-05, 'ts': 149.46322796250024, 'flux_err': 6.9840741874055233e-10, 'ul': 4.1103785914956924e-09, 'type': 'Powerlaw', 'eflux_err': 7.9034486583314869e-06, 'Prefactor': [1.0766015116044343e-14, 4.931237001995983e-15]}, 57678.5: {'Index': [1.813284352048663, 0.2045465061691722], 'Scale': [20000.0], 'flux': 2.3702672037166617e-09, 'eflux': 3.2525715176759215e-05, 'ts': 129.93177615433524, 'flux_err': 5.1674539075865525e-10, 'ul': 3.0248282626376046e-09, 'type': 'Powerlaw', 'eflux_err': 1.2874437606985822e-05, 'Prefactor': [1.5069768108623954e-14, 4.557167010663671e-15]}, 57915.5: {'Index': [1.990675634967292, 0.11304015636534206], 'Scale': [20000.0], 'flux': 1.2292239411663062e-08, 'eflux': 0.00012578347024021425, 'ts': 652.5089459917945, 'flux_err': 1.3149283001211718e-09, 'ul': 1.3653134554742571e-08, 'type': 'Powerlaw', 'eflux_err': 2.5377304741119368e-05, 'Prefactor': [6.263402349248159e-14, 1.13329679696888e-14]}, 57046.5: {'Index': [1.4523548156823534, 0.287310045482148], 'Scale': [20000.0], 'flux': 1.1754896014256827e-09, 'eflux': 3.152286544484141e-05, 'ts': 37.8250798689769, 'flux_err': 4.5750104692193355e-10, 'ul': 1.974626952237333e-09, 'type': 'Powerlaw', 'eflux_err': 1.8814155822279745e-05, 'Prefactor': [1.046704668513571e-14, 4.133638967055111e-15]}, 55545.5: {'Index': [2.1216052559249867, 0.16223116063620208], 'Scale': [20000.0], 'flux': 7.524177012038317e-09, 'eflux': 6.354323440770868e-05, 'ts': 299.3975088598527, 'flux_err': 1.0765273935990485e-09, 'ul': 8.51246747605617e-09, 'type': 'Powerlaw', 'eflux_err': 1.6201953534035405e-05, 'Prefactor': [3.199810624824863e-14, 8.375758613708269e-15]}, 56414.5: {'Index': [2.517936336875902, 0.3646081405182607], 'Scale': [20000.0], 'flux': 2.86249823708252e-09, 'eflux': 1.552724796594995e-05, 'ts': 70.97411744195415, 'flux_err': 6.8292821736453357e-10, 'ul': 3.408228253228846e-09, 'type': 'Powerlaw', 'eflux_err': 6.1351050431932647e-06, 'Prefactor': [6.592270949201931e-15, 4.243546991639634e-15]}, 57283.5: {'Index': [2.29988992484264, 0.5585305806922903], 'Scale': [20000.0], 'flux': 9.525194276736125e-10, 'eflux': 6.427202141977692e-06, 'ts': 23.33879680807877, 'flux_err': 4.1547365251727076e-10, 'ul': 1.3658150797408075e-09, 'type': 'Powerlaw', 'eflux_err': 4.5640535809070332e-06, 'Prefactor': [3.1070532213320702e-15, 2.7938598157821154e-15]}, 55782.5: {'Index': [2.205882062934931, 0.21456724275103808], 'Scale': [20000.0], 'flux': 4.6816086565259045e-09, 'eflux': 3.536758268497999e-05, 'ts': 179.070722421784, 'flux_err': 8.2069970302678629e-10, 'ul': 5.417130790426556e-09, 'type': 'Powerlaw', 'eflux_err': 1.1095423299956105e-05, 'Prefactor': [1.7607038677434097e-14, 6.232600923398467e-15]}, 56651.5: {'Index': [2.297416290204189, 0.257468105132331], 'Scale': [20000.0], 'flux': 3.6393514666684254e-09, 'eflux': 2.4626196811137887e-05, 'ts': 124.02952052640467, 'flux_err': 7.3066055071665461e-10, 'ul': 4.297612139354148e-09, 'type': 'Powerlaw', 'eflux_err': 8.6298163888847154e-06, 'Prefactor': [1.1916642095447026e-14, 5.223089712707681e-15]}, 57520.5: {'Index': [2.7736861574978855, 0.43459282258777093], 'Scale': [20000.0], 'flux': 2.5901113015372207e-09, 'eflux': 1.1624954238544684e-05, 'ts': 74.03833058519376, 'flux_err': 6.6493220681256954e-10, 'ul': 2.9866113430812565e-09, 'type': 'Powerlaw', 'eflux_err': 4.1371671411221101e-06, 'Prefactor': [3.865872488936712e-15, 2.9995555428500497e-15]}, 58152.5: {'Index': [1.9154465408508836, 0.12522782369452667], 'Scale': [20000.0], 'flux': 8.661123609129929e-09, 'eflux': 9.994005875892096e-05, 'ts': 520.4900358711238, 'flux_err': 1.0710995066069699e-09, 'ul': 9.865897960105942e-09, 'type': 'Powerlaw', 'eflux_err': 2.3665722115818159e-05, 'Prefactor': [4.8651741977026264e-14, 9.62664080445919e-15]}, 56888.5: {'Index': [2.5860609778104333, 0.5716977259385496], 'Scale': [20000.0], 'flux': 1.5253117577164643e-09, 'eflux': 7.817096851798098e-06, 'ts': 36.94850633305032, 'flux_err': 5.1078104413328974e-10, 'ul': 1.934284054927048e-09, 'type': 'Powerlaw', 'eflux_err': 4.307787115135048e-06, 'Prefactor': [3.1369530336588722e-15, 3.127873227427343e-15]}, 55387.5: {'Index': [2.1563030466341466, 0.23763409575544214], 'Scale': [20000.0], 'flux': 3.5793514874852335e-09, 'eflux': 2.8839012555003328e-05, 'ts': 109.11820474065462, 'flux_err': 7.4220182687407802e-10, 'ul': 4.311994271076019e-09, 'type': 'Powerlaw', 'eflux_err': 1.0602550455074145e-05, 'Prefactor': [1.447918361877769e-14, 5.672113809311822e-15]}, 57757.5: {'Index': [2.190428001125597, 0.21944645752459274], 'Scale': [20000.0], 'flux': 4.617648307802458e-09, 'eflux': 3.557890102667178e-05, 'ts': 184.23391826466832, 'flux_err': 8.4955206982476876e-10, 'ul': 5.372358257426544e-09, 'type': 'Powerlaw', 'eflux_err': 1.1448062567978257e-05, 'Prefactor': [1.776851563151501e-14, 6.339666002166115e-15]}, 56256.5: {'Index': [2.2713213276560524, 0.3532222827814038], 'Scale': [20000.0], 'flux': 2.2504120249761968e-09, 'eflux': 1.5695510969539963e-05, 'ts': 56.8174213059101, 'flux_err': 6.1362236938971163e-10, 'ul': 2.8139169769229493e-09, 'type': 'Powerlaw', 'eflux_err': 7.4956744303525909e-06, 'Prefactor': [7.669381978790389e-15, 4.4706065650909416e-15]}, 54755.5: {'Index': [2.319083675779177, 0.2811155745627744], 'Scale': [20000.0], 'flux': 2.58637729254646e-09, 'eflux': 1.7078590532625144e-05, 'ts': 99.77599261181604, 'flux_err': 5.6264516336766596e-10, 'ul': 3.0629661700132828e-09, 'type': 'Powerlaw', 'eflux_err': 6.2900938534514404e-06, 'Prefactor': [8.189830701588953e-15, 3.87695999190234e-15]}, 57125.5: {'Index': [2.572611031023536, 0.4638222445590634], 'Scale': [20000.0], 'flux': 2.0071655240150823e-09, 'eflux': 1.0398443290321559e-05, 'ts': 48.22317290000137, 'flux_err': 5.9265297739997183e-10, 'ul': 2.4374329977455218e-09, 'type': 'Powerlaw', 'eflux_err': 4.7229343132368037e-06, 'Prefactor': [4.2218093647921635e-15, 3.377696055680206e-15]}, 56019.5: {'Index': [2.1530096999864776, 0.30592739490917176], 'Scale': [20000.0], 'flux': 2.3227780450064346e-09, 'eflux': 1.8797184805603143e-05, 'ts': 69.3653525816917, 'flux_err': 6.1993229842651249e-10, 'ul': 2.9432002714169808e-09, 'type': 'Powerlaw', 'eflux_err': 8.7884864278045007e-06, 'Prefactor': [9.441149264499478e-15, 4.6894937355674345e-15]}, 55624.5: {'Index': [2.0858856164409585, 0.18570584585732353], 'Scale': [20000.0], 'flux': 5.297291475639309e-09, 'eflux': 4.703677743139578e-05, 'ts': 241.84733735051122, 'flux_err': 8.7368144857855223e-10, 'ul': 6.166719760297757e-09, 'type': 'Powerlaw', 'eflux_err': 1.4299334603056699e-05, 'Prefactor': [2.3697356804632048e-14, 7.117034312928149e-15]}, 57994.5: {'Index': [2.2669763611420466, 0.13825822335471674], 'Scale': [20000.0], 'flux': 1.0474288410783503e-08, 'eflux': 7.342841071141853e-05, 'ts': 594.0885606266529, 'flux_err': 1.1369741037891232e-09, 'ul': 1.1423746169183038e-08, 'type': 'Powerlaw', 'eflux_err': 1.4279633313665902e-05, 'Prefactor': [3.5933408698328467e-14, 8.44172055070804e-15]}, 56493.5: {'Index': [2.06360872740424, 0.28610367782215895], 'Scale': [20000.0], 'flux': 2.250664913308606e-09, 'eflux': 2.06371019920878e-05, 'ts': 76.67893905733945, 'flux_err': 6.0100697022913515e-10, 'ul': 2.9195403272484967e-09, 'type': 'Powerlaw', 'eflux_err': 9.899495165070435e-06, 'Prefactor': [1.0386264490010982e-14, 4.810972459801741e-15]}, 54992.5: {'Index': [2.3412915598004895, 0.28876113147178084], 'Scale': [20000.0], 'flux': 2.6387378903708088e-09, 'eflux': 1.700416592554637e-05, 'ts': 114.09896333859069, 'flux_err': 5.7739597259526111e-10, 'ul': 3.1347313105376726e-09, 'type': 'Powerlaw', 'eflux_err': 6.3376777857535219e-06, 'Prefactor': [8.071515342485272e-15, 3.966611093163029e-15]}, 56177.5: {'Index': [1.9296791769355854, 0.20700242109714637], 'Scale': [20000.0], 'flux': 3.0966572713448075e-09, 'eflux': 3.491112711239027e-05, 'ts': 144.74265557545004, 'flux_err': 6.4865488576380056e-10, 'ul': 3.877045296738416e-09, 'type': 'Powerlaw', 'eflux_err': 1.3494766242765923e-05, 'Prefactor': [1.7083423290514077e-14, 5.6041744670667955e-15]}, 55861.5: {'Index': [2.079450926353906, 0.2990125774406824], 'Scale': [20000.0], 'flux': 2.1204407474851976e-09, 'eflux': 1.9002515059400348e-05, 'ts': 73.25985007052077, 'flux_err': 5.9533971566724825e-10, 'ul': 2.749377732766338e-09, 'type': 'Powerlaw', 'eflux_err': 9.1298989549544992e-06, 'Prefactor': [9.571697161241338e-15, 4.513027471945947e-15]}, 55940.5: {'Index': [2.5672343928384356, 0.386752009767029], 'Scale': [20000.0], 'flux': 2.47250484365691e-09, 'eflux': 1.2865406676408448e-05, 'ts': 72.48751509001158, 'flux_err': 6.385367229075743e-10, 'ul': 2.963051775208308e-09, 'type': 'Powerlaw', 'eflux_err': 5.1443165991733442e-06, 'Prefactor': [5.247445147497471e-15, 3.592377047809847e-15]}, 56730.5: {'Index': [2.187814747399316, 0.2456384578523594], 'Scale': [20000.0], 'flux': 3.3679855766238994e-09, 'eflux': 2.603775589724658e-05, 'ts': 142.20268039120856, 'flux_err': 6.8609227242442567e-10, 'ul': 4.062501482827401e-09, 'type': 'Powerlaw', 'eflux_err': 9.7856646300826069e-06, 'Prefactor': [1.3009921097945273e-14, 5.394508486808477e-15]}, 55229.5: {'Index': [2.191464711696613, 0.2580284011041416], 'Scale': [20000.0], 'flux': 3.0749562117339544e-09, 'eflux': 2.3660933426912303e-05, 'ts': 121.94352327662637, 'flux_err': 6.7510679351682716e-10, 'ul': 3.668883866868877e-09, 'type': 'Powerlaw', 'eflux_err': 8.7942943609265038e-06, 'Prefactor': [1.1814206302180018e-14, 4.877320681174413e-15]}, 57599.5: {'Index': [2.0893839101019123, 0.2340458237871535], 'Scale': [20000.0], 'flux': 3.069235277604299e-09, 'eflux': 2.7117435117913286e-05, 'ts': 125.7007428084471, 'flux_err': 6.502691711617154e-10, 'ul': 3.763974867350297e-09, 'type': 'Powerlaw', 'eflux_err': 1.0463210219938316e-05, 'Prefactor': [1.3662848098321561e-14, 5.228171232109227e-15]}, 56098.5: {'Index': [1.9523760177624927, 0.3157946200954454], 'Scale': [20000.0], 'flux': 1.468690744625609e-09, 'eflux': 1.5963052851859516e-05, 'ts': 49.521079236066726, 'flux_err': 4.6502859785250835e-10, 'ul': 2.0381318610399313e-09, 'type': 'Powerlaw', 'eflux_err': 8.946156450289793e-06, 'Prefactor': [7.869369754239962e-15, 3.811430622772098e-15]}, 55466.5: {'Index': [2.1386277238032148, 0.16931977379726673], 'Scale': [20000.0], 'flux': 6.2350806841312895e-09, 'eflux': 5.144449876092847e-05, 'ts': 307.30563244856603, 'flux_err': 9.076062942487048e-10, 'ul': 7.097590907260948e-09, 'type': 'Powerlaw', 'eflux_err': 1.3752706844554111e-05, 'Prefactor': [2.587580566413238e-14, 7.232685301327592e-15]}, 57836.5: {'Index': [2.4923695955828, 0.22978340394482938], 'Scale': [20000.0], 'flux': 5.683779229105935e-09, 'eflux': 3.1536610800336515e-05, 'ts': 253.1856242569702, 'flux_err': 8.7936594243872794e-10, 'ul': 6.3473007025181806e-09, 'type': 'Powerlaw', 'eflux_err': 8.1259646873282576e-06, 'Prefactor': [1.365064827173914e-14, 5.539743842420709e-15]}, 56335.5: {'Index': [2.143272102332312, 0.27822335279733734], 'Scale': [20000.0], 'flux': 2.5861174689133596e-09, 'eflux': 2.120388162432373e-05, 'ts': 94.78012904132629, 'flux_err': 6.3621248383139513e-10, 'ul': 3.2077963171672726e-09, 'type': 'Powerlaw', 'eflux_err': 9.0910500507411478e-06, 'Prefactor': [1.0660784923093653e-14, 4.8034427306349495e-15]}, 54834.5: {'Index': [2.128016142717772, 0.28927776308405245], 'Scale': [20000.0], 'flux': 1.911893221989108e-09, 'eflux': 1.6004610115840117e-05, 'ts': 78.14460131312808, 'flux_err': 4.8534960392212357e-10, 'ul': 2.410971655959682e-09, 'type': 'Powerlaw', 'eflux_err': 7.2226261804666895e-06, 'Prefactor': [8.0564185016367e-15, 3.758806251298516e-15]}, 55150.5: {'Index': [2.303155301820319, 0.2750661397968584], 'Scale': [20000.0], 'flux': 3.4248511757437766e-09, 'eflux': 2.302384241867407e-05, 'ts': 108.53424129807536, 'flux_err': 7.319362544920829e-10, 'ul': 4.091136025779475e-09, 'type': 'Powerlaw', 'eflux_err': 8.5809658456344406e-06, 'Prefactor': [1.1115513119195882e-14, 5.215282514602426e-15]}, 57204.5: {'Index': [1.923795192336068, 0.2968830396171273], 'Scale': [20000.0], 'flux': 1.6755815900142678e-09, 'eflux': 1.9072045442887907e-05, 'ts': 50.153394890221534, 'flux_err': 5.0519710686358829e-10, 'ul': 2.3450507275815365e-09, 'type': 'Powerlaw', 'eflux_err': 1.0739515703168518e-05, 'Prefactor': [9.313209071784234e-15, 4.431851754461636e-15]}, 55703.5: {'Index': [2.657950130342929, 0.2695374347077336], 'Scale': [20000.0], 'flux': 4.8842771585831916e-09, 'eflux': 2.3698787548553714e-05, 'ts': 238.45874188902962, 'flux_err': 7.8881531215498485e-10, 'ul': 5.374607976177531e-09, 'type': 'Powerlaw', 'eflux_err': 5.8936183416370333e-06, 'Prefactor': [8.89700950169713e-15, 4.270643332129287e-15]}, 58073.5: {'Index': [2.330339457510187, 0.15453385987102408], 'Scale': [20000.0], 'flux': 1.0337547192859336e-08, 'eflux': 6.741706003268395e-05, 'ts': 506.176498378205, 'flux_err': 1.1955309936470693e-09, 'ul': 1.12501833668231e-08, 'type': 'Powerlaw', 'eflux_err': 1.3556457804931788e-05, 'Prefactor': [3.216621768411598e-14, 8.436845914075482e-15]}, 56572.5: {'Index': [2.783804372388141, 0.3974074942758069], 'Scale': [20000.0], 'flux': 2.8390372295185817e-09, 'eflux': 1.2662535723817262e-05, 'ts': 103.84401765586517, 'flux_err': 6.262101772078984e-10, 'ul': 3.2806183977585297e-09, 'type': 'Powerlaw', 'eflux_err': 4.2406883649305348e-06, 'Prefactor': [4.163380642960547e-15, 3.056028507075375e-15]}, 55071.5: {'Index': [2.2163747796199202, 0.3569442655603341], 'Scale': [20000.0], 'flux': 1.6351282095572973e-09, 'eflux': 1.2190723692282375e-05, 'ts': 49.607241154211806, 'flux_err': 4.9988580072155898e-10, 'ul': 2.1370927973311656e-09, 'type': 'Powerlaw', 'eflux_err': 6.3005759934223365e-06, 'Prefactor': [6.054210871427486e-15, 3.5637617997528576e-15]}, 57441.5: {'Index': [2.6675963503624116, 0.3229980947466176], 'Scale': [20000.0], 'flux': 3.608768282797485e-09, 'eflux': 1.73885419652151e-05, 'ts': 94.7425730947798, 'flux_err': 7.703089410778295e-10, 'ul': 4.126699795539798e-09, 'type': 'Powerlaw', 'eflux_err': 5.3131883747443893e-06, 'Prefactor': [6.466480560688715e-15, 3.742007070242636e-15]}}\n"
     ]
    }
   ],
   "source": [
    "print LC_dict"
   ]
  },
  {
   "cell_type": "markdown",
   "metadata": {},
   "source": [
    "# Photon_Flux"
   ]
  },
  {
   "cell_type": "code",
   "execution_count": 80,
   "metadata": {
    "collapsed": true,
    "scrolled": true
   },
   "outputs": [],
   "source": [
    "fpy_ph_flux = np.array([LC_dict[time]['flux'] for time in times])\n",
    "fpy_ph_flux_err = np.array([LC_dict[time]['flux_err'] for time in times])\n",
    "fpy_eflux = np.array([LC_dict[time]['eflux'] for time in times])\n",
    "fpy_eflux_err = np.array([LC_dict[time]['eflux_err'] for time in times])\n",
    "gamma = np.array([float(LC_dict[time][spec_index][0]) for time in times])\n",
    "dgamma = np.array([float(LC_dict[time][spec_index][1]) for time in times])\n",
    "ts = np.array([float(LC_dict[time]['ts']) for time in times])\n",
    "ul = np.array([float(LC_dict[time]['ul']) for time in times])\n",
    "pf = np.array([float(LC_dict[time]['Prefactor'][0]) for time in times])\n",
    "dpf = np.array([float(LC_dict[time]['Prefactor'][1]) for time in times])"
   ]
  },
  {
   "cell_type": "code",
   "execution_count": 81,
   "metadata": {},
   "outputs": [
    {
     "name": "stdout",
     "output_type": "stream",
     "text": [
      "[  8.18983070e-15   8.05641850e-15   5.70945819e-15   8.07151534e-15\n",
      "   6.05421087e-15   1.11155131e-14   1.18142063e-14   1.07660151e-14\n",
      "   1.44791836e-14   2.58758057e-14   3.19981062e-14   2.36973568e-14\n",
      "   8.89700950e-15   1.76070387e-14   9.57169716e-15   5.24744515e-15\n",
      "   9.44114926e-15   7.86936975e-15   1.70834233e-14   7.66938198e-15\n",
      "   1.06607849e-14   6.59227095e-15   1.03862645e-14   4.16338064e-15\n",
      "   1.19166421e-14   1.30099211e-14   8.76003820e-15   3.13695303e-15\n",
      "   1.10175567e-14   1.04670467e-14   4.22180936e-15   9.31320907e-15\n",
      "   3.10705322e-15   6.46648056e-15   3.86587249e-15   1.36628481e-14\n",
      "   1.50697681e-14   1.77685156e-14   1.36506483e-14   6.26340235e-14\n",
      "   3.59334087e-14   3.21662177e-14   4.86517420e-14   1.49684586e-14]\n"
     ]
    }
   ],
   "source": [
    "print pf"
   ]
  },
  {
   "cell_type": "code",
   "execution_count": 82,
   "metadata": {
    "collapsed": true
   },
   "outputs": [],
   "source": [
    "ts1 = np.array([float(LC_dict[time]['ts']) for time in times])"
   ]
  },
  {
   "cell_type": "code",
   "execution_count": 83,
   "metadata": {
    "collapsed": true
   },
   "outputs": [],
   "source": [
    "mjd = [Time(t, format='jyear').mjd for t in np.arange(2009,2019,1)]"
   ]
  },
  {
   "cell_type": "code",
   "execution_count": 84,
   "metadata": {
    "collapsed": true
   },
   "outputs": [],
   "source": [
    "outdict = {'time':times, 'ph_flux': fpy_ph_flux, 'ph_flux_err': fpy_ph_flux_err,\n",
    "          'eflux': fpy_eflux, 'eflux_err': fpy_eflux_err }\n",
    "np.save('out.npy', outdict)"
   ]
  },
  {
   "cell_type": "code",
   "execution_count": 90,
   "metadata": {},
   "outputs": [
    {
     "name": "stdout",
     "output_type": "stream",
     "text": [
      "(0.023518986398667403, 1.8468064535318944e-09)\n"
     ]
    },
    {
     "data": {
      "image/png": "[encoded data removed]",
      "text/plain": [
       "<matplotlib.figure.Figure at 0x109eaf8d0>"
      ]
     },
     "metadata": {},
     "output_type": "display_data"
    }
   ],
   "source": [
    "fig = plt.figure(figsize=figsize(0.5, 0.7))\n",
    "tsmask = (np.abs(ts)>9)\n",
    "dgamma_mask = np.abs(dgamma)<3.\n",
    "gamma_mask = (gamma>1.) & (gamma<4.)\n",
    "mask = tsmask & dgamma_mask & gamma_mask\n",
    "xerr = (np.array(bin_length)/2)\n",
    "\n",
    "\n",
    "## Spectral Index Axis\n",
    "ax2=fig.add_axes((.0, .2,0.78,.40))\n",
    "av_gamma, std_gamma = weighted_avg_and_std(gamma[mask], weights=1./dgamma[mask])\n",
    "ax2.axhline(av_gamma,linestyle='--', color='grey',\n",
    "            alpha=0.85, zorder = -1, linewidth=0.9)\n",
    "ax2.axhline(av_gamma+std_gamma,linestyle='--',\n",
    "            color='grey', alpha=0.4, zorder = -1, linewidth=0.75)\n",
    "ax2.axhline(av_gamma-std_gamma,linestyle='--',\n",
    "            color='grey', alpha=0.4, zorder = -1, linewidth=0.75)\n",
    "ax2.errorbar(times[mask], gamma[mask], yerr=dgamma[mask], xerr=xerr[mask],\n",
    "             linestyle='', ms=ms, fmt='.' , color='k', elinewidth=lw)\n",
    "ax2.set_ylabel('Index', labelpad=9)\n",
    "ax2.set_yticks([2,3])\n",
    "ax2.set_xlim(np.min(times)-30, np.max(times)+30)\n",
    "ax2.set_ylim(3.9, 0.95)\n",
    "ax2.set_xlabel('Time (MJD)')\n",
    "ax2.axvspan(57007-78, 57007+78, alpha=0.1, color='blue', linewidth=0.0)\n",
    "ax2.axvline(58018, linestyle='--', alpha=0.65, lw=1.0, zorder=-1)\n",
    "ax2.tick_params(axis='x', which='major', pad=3)\n",
    "\n",
    "ax4=fig.add_axes((.787, .2,0.21,.40))\n",
    "# time_mask = ((times  < 56950) | (times > 57050))\n",
    "g_kde  = gamma[mask] #&time_mask\n",
    "vals, bins = np.histogram(g_kde, bins= 10)\n",
    "db = np.diff(bins)[0]\n",
    "bins = np.concatenate([[bins[0]-db], bins, [bins[-1]+db]])\n",
    "vals = np.concatenate([[0], vals, [0]])\n",
    "ax4.plot(vals/db/len(g_kde), setNewEdges(bins), drawstyle=\"steps-mid\",\n",
    "         color='grey', linestyle='--', label = \"Histogram\")\n",
    "pdf = lambda x: create_index_pdf(x,g_kde, dgamma[mask]) #&time_mask\n",
    "x_plot=np.linspace(1.0, 4.0, 1000)\n",
    "yplot = [pdf(i)/len(g_kde) for i in x_plot]\n",
    "#ax4.plot(yplot, x_plot, linestyle = '--', color='k')\n",
    "spl = lambda x: 10**UnivariateSpline(x_plot, np.log10(yplot), k=1, s=0)(x)\n",
    "print quad(lambda x: spl(x), 0, np.min(g_kde))\n",
    "ax4.plot(spl(x_plot), x_plot, alpha =0.8, linewidth=1.,\n",
    "         label = 'KDE', color='k')\n",
    "ax4.axhline(gamma[int(np.where(times==57046.5)[0])], linestyle='--',\n",
    "           alpha=0.3, lw=1.0, zorder=-1, color='blue')\n",
    "ax4.axhline(gamma[int(np.where(times==57994.5)[0])], linestyle='--',\n",
    "           alpha=0.65, lw=1.0, zorder=-1, color='red')\n",
    "ax4.set_xlim(0.,)\n",
    "ax4.set_ylim(3.9, 0.95)\n",
    "ax4.set_yticks([2,3])\n",
    "ax4.yaxis.tick_right()\n",
    "ax4.set_xlabel(r'$\\mathcal{PDF}$')\n",
    "ax4.xaxis.set_ticks([])\n",
    "\n",
    "\n",
    "## Flux Axis\n",
    "ax3=fig.add_axes((.0, .60,0.78,.4))\n",
    "ydata = fpy_ph_flux[mask] #np.concatenate(plt_ph_flux[:,0:1])[mask]\n",
    "scaling = -round(np.max(np.log10(ydata)))+1\n",
    "ax3.errorbar(times[mask], 10**scaling*ydata, yerr = 10**scaling*fpy_ph_flux_err[mask],\n",
    "             xerr=xerr[mask], ms=ms, fmt='.', color='k', elinewidth=lw)\n",
    "plt_ul = (10**scaling*ul)[~tsmask]\n",
    "ax3.errorbar(times[~tsmask], plt_ul, xerr=xerr[~tsmask], fmt=' ',\n",
    "             color='#808080', elinewidth=lw)\n",
    "ax3.errorbar(times[~tsmask], plt_ul, yerr=0.1*np.ones(len(plt_ul)), fmt=' ' ,\n",
    "             color='#808080', uplims=True, capsize=0.3, elinewidth=0.3)\n",
    "ax3.set_xlim(np.min(times)-30, np.max(times)+30)\n",
    "ax3.set_ylabel(r'$10^{'+'{:.0f}'.format(-scaling)+'}\\,$'+r'ph cm$^{-2}$ s$^{-1}$')\n",
    "ax3.xaxis.set_ticks(mjd[::2])\n",
    "ax3.xaxis.tick_top()\n",
    "fig.canvas.draw()\n",
    "labels = [r'${:.0f}$'.format(Time(item.get_position()[0], format='mjd').decimalyear)\n",
    "          for item in ax3.get_xticklabels()]\n",
    "ax3.set_xticklabels(labels)\n",
    "ax3.axvspan(57007-78,57007+78, alpha=0.1, color='blue', linewidth=0.0)\n",
    "ax3.axvline(58018, linestyle='--', alpha=0.65, lw=1.0, zorder=-1)\n",
    "ax3.tick_params(axis='x', which='major', pad=3)\n",
    "ax3.set_ylim(0, 1.1*np.max(10**scaling*ydata))\n",
    "flare_lab = mpatches.Patch(color='blue', alpha=0.1, label='Neutrino Flare', linewidth=0)\n",
    "ehe_lab = mlines.Line2D([],[],color='red', linestyle='--', alpha=0.5, label='IceCube-170922A', lw=1.0)\n",
    "ax3.legend(loc='upper left',handles=[flare_lab,ehe_lab], fontsize=8)\n",
    "\n",
    "\n",
    "ax5=fig.add_axes((.787, .60,0.21,.40))\n",
    "flux_kde  = 10**scaling*fpy_ph_flux[mask] #&time_mask\n",
    "vals, bins = np.histogram(flux_kde, bins= 10)\n",
    "db = np.diff(bins)[0]\n",
    "bins = np.concatenate([[bins[0]-db], bins, [bins[-1]+db]])\n",
    "vals = np.concatenate([[0], vals, [0]])\n",
    "ax5.plot(vals/db/len(flux_kde), setNewEdges(bins), drawstyle=\"steps-mid\",\n",
    "         color='grey', linestyle='--', label = \"Histogram\")\n",
    "pdf = lambda x: create_index_pdf(x,flux_kde, 10**scaling*fpy_ph_flux_err[mask]) #&time_mask\n",
    "x_plot=np.linspace(0, 20.0, 1000)\n",
    "yplot = [pdf(i)/len(flux_kde) for i in x_plot]\n",
    "spl = lambda x: 10**UnivariateSpline(x_plot, np.log10(yplot), k=1, s=0)(x)\n",
    "ax5.plot(spl(x_plot), x_plot, alpha =1.0, linewidth=0.8,\n",
    "         label = 'KDE', color='k')\n",
    "ax5.axhline(flux_kde[int(np.where(times[mask]==57046.5)[0])], linestyle='--',\n",
    "           alpha=0.3, lw=1.0, zorder=-1, color='blue')\n",
    "ax5.axhline(flux_kde[int(np.where(times[mask]==57994.5)[0])], linestyle='--',\n",
    "           alpha=0.65, lw=1.0, zorder=-1, color='red')\n",
    "ax5.yaxis.tick_right()\n",
    "ax5.xaxis.set_ticks([])\n",
    "ax5.set_ylim(0, 1.1*np.max(10**scaling*ydata))\n",
    "\n",
    "\n",
    "plt.savefig('{}_spectral_index_curve_{}_78days.pdf'.format(source,llim/1e3), bbox_inches='tight')\n",
    "plt.show()"
   ]
  },
  {
   "cell_type": "code",
   "execution_count": 89,
   "metadata": {},
   "outputs": [
    {
     "name": "stdout",
     "output_type": "stream",
     "text": [
      "[ 54755.5  54834.5  54913.5  54992.5  55071.5  55150.5  55229.5  55308.5\n",
      "  55387.5  55466.5  55545.5  55624.5  55703.5  55782.5  55861.5  55940.5\n",
      "  56019.5  56098.5  56177.5  56256.5  56335.5  56414.5  56493.5  56572.5\n",
      "  56651.5  56730.5  56809.5  56888.5  56967.5  57046.5  57125.5  57204.5\n",
      "  57283.5  57441.5  57520.5  57599.5  57678.5  57757.5  57836.5  57915.5\n",
      "  57994.5  58073.5  58152.5  58231.5]\n"
     ]
    }
   ],
   "source": [
    "print times\n"
   ]
  },
  {
   "cell_type": "markdown",
   "metadata": {},
   "source": [
    "# Spectral Index Distribution"
   ]
  },
  {
   "cell_type": "code",
   "execution_count": 346,
   "metadata": {},
   "outputs": [
    {
     "name": "stdout",
     "output_type": "stream",
     "text": [
      "(0.022990876450003927, 9.60601385811131e-09)\n"
     ]
    },
    {
     "data": {
      "image/png": "[encoded data removed]",
      "text/plain": [
       "<matplotlib.figure.Figure at 0x112b03e50>"
      ]
     },
     "metadata": {},
     "output_type": "display_data"
    }
   ],
   "source": [
    "fig, ax = newfig(0.9)\n",
    "time_mask = ((times  < 56950) | (times > 57050))\n",
    "g_kde  = gamma[mask&time_mask]\n",
    "vals, bins = np.histogram(g_kde, bins= 10)\n",
    "db = np.diff(bins)[0]\n",
    "bins = np.concatenate([[bins[0]-db], bins, [bins[-1]+db]])\n",
    "vals = np.concatenate([[0], vals, [0]])\n",
    "plt.plot(setNewEdges(bins), vals/db/len(g_kde), drawstyle=\"steps-mid\",\n",
    "         color='gray', linestyle='--', label = \"Histogram\")\n",
    "pdf = lambda x: create_index_pdf(x,g_kde, dgamma[mask&time_mask])\n",
    "x_plot=np.linspace(1.0, 4.0, 1000)\n",
    "yplot = [pdf(i)/len(g_kde) for i in x_plot]\n",
    "plt.plot(x_plot, yplot, linestyle = '--', color='k')\n",
    "spl = lambda x: 10**UnivariateSpline(x_plot, np.log10(yplot), k=1, s=0)(x)\n",
    "g_min = np.min(gamma[mask])\n",
    "print quad(lambda x: spl(x), 0, g_min)\n",
    "plt.plot(x_plot, spl(x_plot), alpha =0.4, linewidth=3.,\n",
    "         label = 'KDE')\n",
    "ax.axvline(g_min, linestyle='--',\n",
    "           alpha=0.65, lw=1.0, zorder=-1, color='blue')\n",
    "ax.fill_between(np.linspace(g_min, 1.0, 20), 0, spl(np.linspace(g_min, 1.0, 20)),\n",
    "                color= 'blue', alpha=0.2)\n",
    "ax.set_xlim(4.0, 1.0)\n",
    "ax.set_ylim(0.,)\n",
    "ax.set_xlabel('Spectral Index')\n",
    "ax.set_ylabel(r'$\\mathcal{PDF}$')\n",
    "plt.legend(loc='best')\n",
    "plt.grid(True)\n",
    "# plt.savefig('index_distribution.pdf')"
   ]
  },
  {
   "cell_type": "markdown",
   "metadata": {},
   "source": [
    "# Adaptive Binning Neutrino Flare"
   ]
  },
  {
   "cell_type": "code",
   "execution_count": 157,
   "metadata": {},
   "outputs": [
    {
     "data": {
      "image/png": "[encoded data removed]",
      "text/plain": [
       "<matplotlib.figure.Figure at 0x10c2d6990>"
      ]
     },
     "metadata": {},
     "output_type": "display_data"
    }
   ],
   "source": [
    "import math\n",
    "fig = plt.figure(figsize=figsize(0.5, 0.7))\n",
    "mjd = [Time(t, format='jyear').mjd for t in [2014.5, 2015.0,2015.5]]\n",
    "data = np.genfromtxt(filen)\n",
    "times = np.array([float(MET_to_MJD(j)) for j in np.concatenate(data[:,0:1])])\n",
    "deltaT = np.concatenate(data[:,1:2])/(24*60*60)\n",
    "\n",
    "ax1=fig.add_axes((.0, .2,1.0,.40))\n",
    "ax1.invert_yaxis()\n",
    "ydata = -np.concatenate(data[:,4:5])\n",
    "yerr = np.concatenate(data[:,5:6])\n",
    "ulmask = yerr == 0 \n",
    "ax1.errorbar(times[~ulmask], ydata[~ulmask],\n",
    "             yerr=yerr[~ulmask], xerr=deltaT[~ulmask], linestyle='',\n",
    "             ms=ms, fmt='.' , color='k', elinewidth=lw)\n",
    "a = ax1.errorbar(times[ulmask], ydata[ulmask],\n",
    "             yerr=0.3*np.ones(len(yerr))[ulmask], xerr=deltaT[ulmask], uplims=True,\n",
    "             linestyle='', ms=ms, fmt='.' , color='#808080', elinewidth=lw)\n",
    "ax1.set_xlim(mjd[0], 57170)\n",
    "ax1.set_ylabel('Index', labelpad=9) #, labelpad=14\n",
    "\n",
    "\n",
    "# Ax2\n",
    "ax2=fig.add_axes((.0, .60,1.0,.4))\n",
    "ydata = np.concatenate(data[:,2:3])\n",
    "scaling = -(math.floor(np.max(np.log10(ydata))))+1\n",
    "yerr = np.concatenate(data[:,3:4])\n",
    "ax2.errorbar(times[~ulmask], (ydata*10**scaling)[~ulmask], yerr=(10**scaling*yerr)[~ulmask],\n",
    "             xerr=deltaT[~ulmask], linestyle='', ms=ms, fmt='.' , color='k', elinewidth=lw)\n",
    "ax2.errorbar(times[ulmask], (ydata*10**scaling)[ulmask], yerr=(5*np.ones(len(yerr)))[ulmask], uplims=True,\n",
    "             xerr=deltaT[ulmask], linestyle='', ms=ms, fmt='.' , color='#808080', elinewidth=lw)\n",
    "ax2.xaxis.set_ticks(mjd)\n",
    "ax2.xaxis.tick_top()\n",
    "fig.canvas.draw()\n",
    "labels = [r'${:.1f}$'.format(Time(item.get_position()[0], format='mjd').decimalyear)\n",
    "          for item in ax2.get_xticklabels()]\n",
    "ax2.set_xticklabels(labels)\n",
    "ax2.set_xlim(mjd[0], 57170)\n",
    "ax2.set_ylabel(r'$10^{'+'{:.0f}'.format(-scaling)+'}\\,$'+r'ph cm$^{-2}$ s$^{-1}$') #labelpad=14) # labelpad=12\n",
    "\n",
    "\n",
    "ax2.text(56958., 20,\n",
    "          'Neutrino Flare', fontsize=11, color ='blue')\n",
    "ax1.set_xlabel('Time (MJD)')\n",
    "ax2.axvspan(56948,57058, alpha=0.1, color='blue', linewidth=0.0)\n",
    "ax1.axvspan(56948, 57058, alpha=0.1, color='blue', linewidth=0.0)\n",
    "ax1.tick_params(axis='x', which='major', pad=3)\n",
    "ax2.tick_params(axis='x', which='major', pad=3)\n",
    "plt.savefig(filen.split('/')[-1][:-4]+'.pdf', bbox_inches='tight')\n",
    "plt.show()"
   ]
  },
  {
   "cell_type": "markdown",
   "metadata": {},
   "source": [
    "# All-Time SED"
   ]
  },
  {
   "cell_type": "code",
   "execution_count": 141,
   "metadata": {},
   "outputs": [
    {
     "name": "stdout",
     "output_type": "stream",
     "text": [
      "1.45901483779\n"
     ]
    },
    {
     "data": {
      "image/png": "[encoded data removed]",
      "text/plain": [
       "<matplotlib.figure.Figure at 0x10aed7f10>"
      ]
     },
     "metadata": {},
     "output_type": "display_data"
    }
   ],
   "source": [
    "import math\n",
    "fig = plt.figure(figsize=figsize(0.5, 0.7))\n",
    "# mjd = [Time(t, format='jyear').mjd for t in [2014.5, 2015.0,2015.5]]\n",
    "filen = '../Narek/TXS0506+056_results_fin_12degree_238.6.txt'\n",
    "data = np.genfromtxt(filen)\n",
    "times = np.array([float(MET_to_MJD(j)) for j in np.concatenate(data[:,0:1])])\n",
    "deltaT = np.concatenate(data[:,1:2])/(24*60*60)\n",
    "\n",
    "ax1=fig.add_axes((.0, .2,1.0,.40))\n",
    "ax1.invert_yaxis()\n",
    "ydata = -np.concatenate(data[:,4:5])\n",
    "yerr = np.concatenate(data[:,5:6])\n",
    "ulmask = yerr == 0 \n",
    "print np.min(ydata[~ulmask])\n",
    "ax1.errorbar(times[~ulmask], ydata[~ulmask],\n",
    "             yerr=yerr[~ulmask], xerr=deltaT[~ulmask], linestyle='',\n",
    "             ms=ms, fmt='.' , color='k', elinewidth=lw)\n",
    "ax1.errorbar(times[ulmask], ydata[ulmask],\n",
    "             yerr=0.3*np.ones(len(yerr))[ulmask], xerr=deltaT[ulmask], uplims=True,\n",
    "             linestyle='', ms=ms, fmt='.' , color='#808080', elinewidth=lw)\n",
    "ax1.set_ylabel('Index', labelpad=9) #, labelpad=14\n",
    "\n",
    "\n",
    "# Ax2\n",
    "ax2=fig.add_axes((.0, .60,1.0,.4))\n",
    "ydata = np.concatenate(data[:,2:3])\n",
    "scaling = -(math.floor(np.max(np.log10(ydata))))+1\n",
    "yerr = np.concatenate(data[:,3:4])\n",
    "ax2.errorbar(times[~ulmask], (ydata*10**scaling)[~ulmask], yerr=(10**scaling*yerr)[~ulmask],\n",
    "             xerr=deltaT[~ulmask], linestyle='', ms=ms, fmt='.' , color='k', elinewidth=lw)\n",
    "ax2.errorbar(times[ulmask], (ydata*10**scaling)[ulmask], yerr=(5*np.ones(len(yerr)))[ulmask], uplims=True,\n",
    "             xerr=deltaT[ulmask], linestyle='', ms=ms, fmt='.' , color='#808080', elinewidth=lw)\n",
    "ax2.xaxis.tick_top()\n",
    "ax2.set_ylabel(r'$10^{'+'{:.0f}'.format(-scaling)+'}\\,$'+r'ph cm$^{-2}$ s$^{-1}$') #labelpad=14) # labelpad=12\n",
    "\n",
    "\n",
    "ax1.set_xlabel('Time (MJD)')\n",
    "ax2.axvspan(56948,57058, alpha=0.1, color='blue', linewidth=0.0)\n",
    "ax1.axvspan(56948, 57058, alpha=0.1, color='blue', linewidth=0.0)\n",
    "ax1.tick_params(axis='x', which='major', pad=3)\n",
    "ax2.tick_params(axis='x', which='major', pad=3)\n",
    "plt.savefig(filen.split('/')[-1][:-4]+'.pdf', bbox_inches='tight')\n",
    "plt.show()"
   ]
  },
  {
   "cell_type": "code",
   "execution_count": 138,
   "metadata": {},
   "outputs": [
    {
     "name": "stdout",
     "output_type": "stream",
     "text": [
      "[  1.98381633e-08   2.85911707e-08   1.53474712e-08   1.30564661e-08\n",
      "   2.46690095e-08   1.29340631e-08   7.99774452e-09   1.36092562e-08\n",
      "   3.63817010e-08   2.74749858e-08   3.57889762e-08   2.62593108e-08\n",
      "   2.70003939e-08   2.80323828e-08   2.23282570e-08   3.74374034e-08\n",
      "   2.31214719e-08   2.57471701e-08   2.94310222e-08   2.74111943e-08\n",
      "   3.69156875e-08   3.17315332e-08   2.47859978e-08   2.65293503e-08\n",
      "   3.69053803e-08   5.12674891e-08   2.27225658e-08   2.62373576e-08\n",
      "   2.72355295e-08   1.79483799e-08   3.56108970e-08   4.03284394e-08\n",
      "   3.96010216e-08   6.89017294e-08   8.43910501e-08   4.43302145e-08\n",
      "   4.34356156e-08   3.56570688e-08   6.44631026e-08   4.99195776e-08\n",
      "   4.21767737e-08   4.06603041e-08   2.50839007e-08   4.75488606e-08\n",
      "   7.30787583e-08   6.02242595e-08   8.06803733e-08   5.94292806e-08\n",
      "   6.51291288e-08   1.30607310e-07   4.36581301e-08   9.93771309e-08\n",
      "   1.05313125e-07   6.26987370e-08   2.37750158e-08   5.19061015e-08\n",
      "   6.18603332e-08   7.79200284e-08   5.74460783e-08   3.08249564e-08\n",
      "   5.82857811e-08   2.54461835e-08   4.05155405e-08   4.14393955e-08\n",
      "   2.75644680e-08   2.80443956e-08   5.37772874e-08   5.77085541e-08\n",
      "   4.35854080e-08   9.08190968e-08   8.58097241e-08   3.50522041e-08\n",
      "   2.82335072e-08   6.00683369e-08   3.74632093e-08   3.68396648e-08\n",
      "   2.26936308e-08   1.92738128e-08   1.87561521e-08   1.76793291e-08\n",
      "   2.72304830e-08   4.01065545e-08   2.24742346e-08   2.13693752e-08\n",
      "   4.30234964e-08   2.73617296e-08   2.32950316e-08   1.28746576e-08\n",
      "   1.14201790e-08   3.97095089e-08   2.22498671e-08   1.75506254e-08\n",
      "   1.91554499e-08   3.15653517e-08   3.23935516e-08   3.85129810e-08\n",
      "   2.94928190e-08   1.09945026e-07   4.83550801e-08   5.35276676e-08\n",
      "   2.42562375e-08   2.28523358e-08   1.64956106e-08   3.04482632e-08\n",
      "   3.58185789e-08   2.91723289e-08   2.03438107e-08   2.84084175e-08\n",
      "   5.91728918e-08   4.29754476e-08   6.36196367e-08   7.01997478e-08\n",
      "   3.01432139e-08   2.12637896e-08   3.37216494e-08   4.37467951e-08\n",
      "   5.17207859e-08   4.36491248e-08   4.11780061e-08   1.61956258e-08\n",
      "   3.02352291e-08   1.69091464e-08   1.36783148e-08   1.21623058e-08\n",
      "   2.72986579e-08   1.30537282e-08   1.66057976e-08   1.40924553e-08\n",
      "   1.22526849e-08   3.00995636e-08   1.44240985e-08   1.72663068e-08\n",
      "   2.04355560e-08   2.60554562e-08   5.10297619e-08   2.09256541e-08\n",
      "   5.16797677e-08   2.80606735e-08   3.24475236e-08   1.84633268e-08\n",
      "   3.38980546e-08   6.26350766e-08   3.27783379e-08   6.05021444e-08\n",
      "   3.99660934e-08   3.67116662e-08   7.09670499e-08   4.99055276e-08\n",
      "   5.14188487e-08   5.91283224e-08   2.91522211e-08   1.15734586e-07\n",
      "   1.30128082e-07   3.88921794e-08   4.67457001e-08   3.03304183e-08\n",
      "   3.98655873e-08   5.04429360e-08   4.65344798e-08   4.79151446e-08\n",
      "   4.54263246e-08   7.55735444e-08   5.81183382e-08   6.74191578e-08\n",
      "   3.31575195e-08   5.54907104e-08   6.91215958e-08   5.04805033e-08\n",
      "   2.77444426e-08   6.37097974e-08   6.64953516e-08   7.14642479e-08\n",
      "   2.37273784e-07   9.54551888e-08   1.27144428e-07   1.01216139e-07\n",
      "   2.06165552e-07   1.71305225e-07   8.93857921e-08   1.54511702e-07\n",
      "   9.30660911e-08   2.01232566e-07   1.31844632e-07   1.47995167e-07\n",
      "   9.71450669e-08   1.54567582e-07   4.72408444e-07   3.08914915e-07\n",
      "   3.18072071e-07   2.43707973e-07   2.69521665e-07   7.33222382e-08\n",
      "   1.40765371e-07   2.01686219e-07   2.37453211e-07   2.02316886e-07\n",
      "   5.62441319e-08   4.24524916e-08   1.42849482e-07   4.48289991e-07\n",
      "   3.24354675e-07   3.21362522e-07   2.25646914e-07   1.85920085e-07\n",
      "   1.43296809e-07   1.28454872e-07   2.18063478e-07   1.40627641e-07\n",
      "   8.85643497e-08   1.43017550e-07   1.33520908e-07   3.73464879e-07\n",
      "   1.85583811e-07   1.50364202e-07   1.15643408e-07   9.53551477e-08\n",
      "   1.61760187e-07   1.81690483e-07   1.18925538e-07   1.19199785e-07\n",
      "   1.92818226e-07   1.75539845e-07   1.85424041e-07   1.06549616e-07\n",
      "   1.63040810e-07   6.19090866e-08   1.32200408e-07   1.61201118e-07\n",
      "   1.04254580e-07   5.61203196e-08   4.59149808e-08   1.43896111e-07\n",
      "   3.59273090e-07   1.94557586e-07   2.50144896e-07   1.05629381e-07\n",
      "   8.71139003e-08   1.70126007e-07   8.23282253e-08]\n"
     ]
    }
   ],
   "source": [
    "print  ydata[~ulmask]"
   ]
  },
  {
   "cell_type": "code",
   "execution_count": 62,
   "metadata": {},
   "outputs": [
    {
     "name": "stdout",
     "output_type": "stream",
     "text": [
      "54776.5 phi0: 6.84325556645e-15, gamma 2.56626519522, scale: 20000.0\n",
      "54831.5 phi0: 5.81620433433e-15, gamma 2.16195683969, scale: 20000.0\n",
      "54886.5 phi0: 6.64453624022e-15, gamma 1.80482171462, scale: 20000.0\n",
      "54941.5 phi0: 4.24887626602e-15, gamma 2.49942912832, scale: 20000.0\n",
      "54996.5 phi0: 9.11594719637e-15, gamma 2.29841001927, scale: 20000.0\n",
      "55051.5 phi0: 1.18939945807e-15, gamma 3.05072374143, scale: 20000.0\n",
      "55106.5 phi0: 1.86992800638e-14, gamma 1.83137384446, scale: 20000.0\n",
      "55161.5 phi0: 5.0958298437e-15, gamma 2.76290323815, scale: 20000.0\n",
      "55216.5 phi0: 1.32950968154e-14, gamma 1.99502861302, scale: 20000.0\n",
      "55271.5 phi0: 9.03885793328e-15, gamma 2.52351008197, scale: 20000.0\n",
      "55326.5 phi0: 1.17818143462e-14, gamma 2.290168191, scale: 20000.0\n",
      "55381.5 phi0: 1.54019389289e-14, gamma 2.0600024067, scale: 20000.0\n",
      "55436.5 phi0: 9.4566125933e-15, gamma 2.52774681873, scale: 20000.0\n",
      "55491.5 phi0: 3.57276396547e-14, gamma 1.99972531212, scale: 20000.0\n",
      "55546.5 phi0: 3.86454395883e-14, gamma 2.06890231172, scale: 20000.0\n",
      "55601.5 phi0: 2.31160104289e-14, gamma 2.230224289, scale: 20000.0\n",
      "55656.5 phi0: 1.22621982157e-14, gamma 2.38107901416, scale: 20000.0\n",
      "55711.5 phi0: 7.83552043734e-15, gamma 2.51302187214, scale: 20000.0\n",
      "55766.5 phi0: 1.96801843712e-14, gamma 2.31424546222, scale: 20000.0\n",
      "55821.5 phi0: 1.13946563033e-14, gamma 2.19215347596, scale: 20000.0\n",
      "55876.5 phi0: 1.26873228131e-14, gamma 2.07154096711, scale: 20000.0\n",
      "55931.5 phi0: 4.95890526229e-15, gamma 2.62652549728, scale: 20000.0\n",
      "55986.5 phi0: 4.48135699725e-15, gamma 2.31694759581, scale: 20000.0\n",
      "56041.5 phi0: 1.49104761833e-14, gamma 2.00577374478, scale: 20000.0\n",
      "56096.5 phi0: 7.87716757822e-15, gamma 1.95453054388, scale: 20000.0\n",
      "56151.5 phi0: 1.1694323251e-14, gamma 1.88713006743, scale: 20000.0\n",
      "56206.5 phi0: 1.50288472906e-14, gamma 2.05180576738, scale: 20000.0\n",
      "56261.5 phi0: 7.81116748515e-15, gamma 2.27041441561, scale: 20000.0\n",
      "56316.5 phi0: 6.3753618518e-15, gamma 2.13169517072, scale: 20000.0\n",
      "56371.5 phi0: 1.47116902898e-14, gamma 2.27997962935, scale: 20000.0\n",
      "56426.5 phi0: 3.43432029261e-15, gamma 2.67101825932, scale: 20000.0\n",
      "56481.5 phi0: 1.34720368179e-14, gamma 1.95863404012, scale: 20000.0\n",
      "56536.5 phi0: 1.75707109931e-15, gamma 2.99306568374, scale: 20000.0\n",
      "56591.5 phi0: 6.79503828398e-15, gamma 2.69670557704, scale: 20000.0\n",
      "56646.5 phi0: 1.65542771228e-14, gamma 2.13979753293, scale: 20000.0\n",
      "56701.5 phi0: 1.31305896924e-14, gamma 2.31459542343, scale: 20000.0\n",
      "56756.5 phi0: 5.50090075702e-15, gamma 2.15730250582, scale: 20000.0\n",
      "56811.5 phi0: 1.11112791688e-14, gamma 2.07380482037, scale: 20000.0\n",
      "56866.5 phi0: 9.06016860189e-16, gamma 3.17662923078, scale: 20000.0\n",
      "56921.5 phi0: 6.20548336833e-15, gamma 2.77034250169, scale: 20000.0\n",
      "56976.5 phi0: 1.4374176423e-14, gamma 1.77385061188, scale: 20000.0\n",
      "57031.5 phi0: 1.13174218802e-14, gamma 1.43234126322, scale: 20000.0\n",
      "57086.5 phi0: 4.13232266819e-15, gamma 3.05651343553, scale: 20000.0\n",
      "57141.5 phi0: 3.92184623402e-15, gamma 2.58807648768, scale: 20000.0\n",
      "57196.5 phi0: 1.26621638901e-15, gamma 2.62559717503, scale: 20000.0\n",
      "57251.5 phi0: 1.23931049393e-14, gamma 1.82324632083, scale: 20000.0\n",
      "57306.5 phi0: 4.73586018545e-15, gamma 2.32681860845, scale: 20000.0\n",
      "57361.5 phi0: 1.11592637835e-14, gamma 1.87798486027, scale: 20000.0\n",
      "57416.5 phi0: 7.28417429134e-15, gamma 2.49662111971, scale: 20000.0\n",
      "57471.5 phi0: 2.35513180095e-15, gamma 3.20926519348, scale: 20000.0\n",
      "57526.5 phi0: 5.27853285848e-15, gamma 2.57538477434, scale: 20000.0\n",
      "57581.5 phi0: 3.78002755808e-15, gamma 2.76510470622, scale: 20000.0\n",
      "57636.5 phi0: 2.37026121679e-14, gamma 1.98116027522, scale: 20000.0\n",
      "57691.5 phi0: 1.23982638703e-14, gamma 1.67580843725, scale: 20000.0\n",
      "57746.5 phi0: 1.15309581035e-14, gamma 2.49277313757, scale: 20000.0\n",
      "57801.5 phi0: 1.44822822146e-14, gamma 2.47109126418, scale: 20000.0\n",
      "57856.5 phi0: 2.62398426355e-14, gamma 2.01156034903, scale: 20000.0\n",
      "57911.5 phi0: 5.05704034303e-14, gamma 2.09503734855, scale: 20000.0\n",
      "57966.5 phi0: 4.89833246695e-14, gamma 2.05115484925, scale: 20000.0\n",
      "58021.5 phi0: 4.8069889223e-14, gamma 2.24378016227, scale: 20000.0\n",
      "58076.5 phi0: 2.83894280586e-14, gamma 2.37428518029, scale: 20000.0\n",
      "58130.0 phi0: 4.64964605863e-14, gamma 1.80976939093, scale: 20000.0\n"
     ]
    }
   ],
   "source": [
    "x = []\n",
    "y = []\n",
    "x_pt = np.array([1e3, 1e4, 1e5])\n",
    "for key in sorted(LC_dict.keys()):\n",
    "    print '{} phi0: {}, gamma {}, scale: {}'.format(key, LC_dict[key]['Prefactor'][0], LC_dict[key]['Index'][0], LC_dict[key]['Scale'][0])\n",
    "    func = lambda E: powerlaw(E, LC_dict[key]['Prefactor'][0], LC_dict[key]['Index'][0], LC_dict[key]['Scale'])\n",
    "    x.extend(x_pt)\n",
    "    y.extend(func(x_pt))"
   ]
  },
  {
   "cell_type": "code",
   "execution_count": 65,
   "metadata": {},
   "outputs": [
    {
     "data": {
      "image/png": "[encoded data removed]",
      "text/plain": [
       "<matplotlib.figure.Figure at 0x10a9cef90>"
      ]
     },
     "metadata": {},
     "output_type": "display_data"
    }
   ],
   "source": [
    "fig, ax = newfig(0.9)\n",
    "ax.scatter(x, np.array(y)*np.array(x)**2*1.60218e-6, color='gray')\n",
    "ax.set_yscale('log')\n",
    "ax.set_xscale('log')\n",
    "ax.set_ylim(0.1e-13, 3e-10)\n",
    "ax.grid(True)\n",
    "fig.savefig('sed.png', dpi= 300)"
   ]
  }
 ],
 "metadata": {
  "kernelspec": {
   "display_name": "Python 2",
   "language": "python",
   "name": "python2"
  },
  "language_info": {
   "codemirror_mode": {
    "name": "ipython",
    "version": 2
   },
   "file_extension": ".py",
   "mimetype": "text/x-python",
   "name": "python",
   "nbconvert_exporter": "python",
   "pygments_lexer": "ipython2",
   "version": "2.7.13"
  }
 },
 "nbformat": 4,
 "nbformat_minor": 2
}
